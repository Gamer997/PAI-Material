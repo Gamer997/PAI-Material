{
 "cells": [
  {
   "cell_type": "code",
   "execution_count": 3,
   "metadata": {},
   "outputs": [
    {
     "name": "stdout",
     "output_type": "stream",
     "text": [
      "int32\n",
      "1\n",
      "(3,)\n",
      "[ 1.     2.125  3.25   4.375  5.5    6.625  7.75   8.875 10.   ]\n",
      "[[0.09366029 0.28387189 0.08486577]\n",
      " [0.56316793 0.24782042 0.42078526]]\n"
     ]
    }
   ],
   "source": [
    "import numpy as np \n",
    "array = np.array([1,5,5])\n",
    "#To check data type store in array\n",
    "print(array.dtype)\n",
    "#To check number of dimensions\n",
    "print(array.ndim)\n",
    "#To check shape\n",
    "print(array.shape)\n",
    "#Creating array of number\n",
    "new_array = np.arange(1,10, .5)\n",
    "new_array = new_array.reshape(2,9)\n",
    "new_array = np.linspace(1,10,9)\n",
    "print(new_array)\n",
    "#To create array of random numbers\n",
    "print(np.random.rand(2,3))\n"
   ]
  },
  {
   "cell_type": "code",
   "execution_count": 31,
   "metadata": {},
   "outputs": [
    {
     "name": "stdout",
     "output_type": "stream",
     "text": [
      "[[ 0  1  2  3]\n",
      " [ 4  5  6  7]\n",
      " [ 8  9 10 11]\n",
      " [12 13 14 15]]\n",
      "[0 1 2 3]\n",
      "[[ 0  2  4  6]\n",
      " [ 4  6  8 10]\n",
      " [ 8 10 12 14]\n",
      " [12 14 16 18]]\n"
     ]
    }
   ],
   "source": [
    "#Broadcasting\n",
    "A = np.arange(16).reshape(4, 4)\n",
    "b = np.arange(4)\n",
    "print(A)\n",
    "print(b)\n",
    "A+b\n",
    "\n",
    "print(A+b)"
   ]
  }
 ],
 "metadata": {
  "kernelspec": {
   "display_name": "Python 3",
   "language": "python",
   "name": "python3"
  },
  "language_info": {
   "codemirror_mode": {
    "name": "ipython",
    "version": 3
   },
   "file_extension": ".py",
   "mimetype": "text/x-python",
   "name": "python",
   "nbconvert_exporter": "python",
   "pygments_lexer": "ipython3",
   "version": "3.10.7"
  },
  "orig_nbformat": 4
 },
 "nbformat": 4,
 "nbformat_minor": 2
}
