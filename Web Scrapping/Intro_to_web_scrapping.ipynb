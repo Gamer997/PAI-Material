{
 "cells": [
  {
   "cell_type": "code",
   "execution_count": 3,
   "metadata": {},
   "outputs": [],
   "source": [
    "import requests\n",
    "\n",
    "def fetchAndSaveToFile(url, path):\n",
    "    r = requests.get(url)\n",
    "    with open(path, \"wb\") as f:  # Use 'wb' mode instead of 'w'\n",
    "        f.write(r.content)  # Use r.content to write binary data\n",
    "\n",
    "url = 'https://www.dawn.com/'\n",
    "fetchAndSaveToFile(url, \"new_dawn.html\")\n"
   ]
  }
 ],
 "metadata": {
  "kernelspec": {
   "display_name": "Python 3",
   "language": "python",
   "name": "python3"
  },
  "language_info": {
   "codemirror_mode": {
    "name": "ipython",
    "version": 3
   },
   "file_extension": ".py",
   "mimetype": "text/x-python",
   "name": "python",
   "nbconvert_exporter": "python",
   "pygments_lexer": "ipython3",
   "version": "3.10.7"
  }
 },
 "nbformat": 4,
 "nbformat_minor": 2
}
