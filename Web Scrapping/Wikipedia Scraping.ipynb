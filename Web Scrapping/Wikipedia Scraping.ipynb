{
 "cells": [
  {
   "cell_type": "code",
   "execution_count": 1,
   "metadata": {
    "id": "2SFGNwSYXRes"
   },
   "outputs": [],
   "source": [
    "import pandas as pd\n",
    "import time\n",
    "\n",
    "from selenium import webdriver\n",
    "from selenium.webdriver.chrome.options import Options\n",
    "from selenium.webdriver.common.keys import Keys\n",
    "from selenium.webdriver.common.by import By\n",
    "from selenium.common.exceptions import NoSuchElementException"
   ]
  },
  {
   "cell_type": "code",
   "execution_count": 2,
   "metadata": {},
   "outputs": [],
   "source": [
    "from selenium import webdriver\n",
    "from selenium.webdriver.chrome.service import Service as ChromeService\n",
    "from webdriver_manager.chrome import ChromeDriverManager"
   ]
  },
  {
   "cell_type": "code",
   "execution_count": 3,
   "metadata": {},
   "outputs": [],
   "source": [
    "url = 'https://en.wikipedia.org/wiki/List_of_universities_in_Pakistan'\n",
    "\n",
    "driver = webdriver.Chrome(service=ChromeService(ChromeDriverManager().install()))\n",
    "driver.get(url)\n"
   ]
  },
  {
   "cell_type": "code",
   "execution_count": 5,
   "metadata": {},
   "outputs": [],
   "source": [
    "tables = driver.find_elements(By.XPATH, \"//table[@class='wikitable sortable jquery-tablesorter']\")"
   ]
  },
  {
   "cell_type": "code",
   "execution_count": 6,
   "metadata": {},
   "outputs": [
    {
     "ename": "KeyboardInterrupt",
     "evalue": "",
     "output_type": "error",
     "traceback": [
      "\u001b[1;31m---------------------------------------------------------------------------\u001b[0m",
      "\u001b[1;31mKeyboardInterrupt\u001b[0m                         Traceback (most recent call last)",
      "\u001b[1;32md:\\Semester 2\\Programming For AI(python)\\Practice\\Web Scrapping\\Wikipedia Scraping.ipynb Cell 5\u001b[0m line \u001b[0;36m1\n\u001b[0;32m     <a href='vscode-notebook-cell:/d%3A/Semester%202/Programming%20For%20AI%28python%29/Practice/Web%20Scrapping/Wikipedia%20Scraping.ipynb#W4sZmlsZQ%3D%3D?line=14'>15</a>\u001b[0m driver\u001b[39m.\u001b[39mswitch_to\u001b[39m.\u001b[39mwindow(driver\u001b[39m.\u001b[39mwindow_handles[\u001b[39m1\u001b[39m]) \n\u001b[0;32m     <a href='vscode-notebook-cell:/d%3A/Semester%202/Programming%20For%20AI%28python%29/Practice/Web%20Scrapping/Wikipedia%20Scraping.ipynb#W4sZmlsZQ%3D%3D?line=16'>17</a>\u001b[0m driver\u001b[39m.\u001b[39mexecute_script(\u001b[39m\"\u001b[39m\u001b[39mwindow.scrollTo(0, 500);\u001b[39m\u001b[39m\"\u001b[39m)\n\u001b[1;32m---> <a href='vscode-notebook-cell:/d%3A/Semester%202/Programming%20For%20AI%28python%29/Practice/Web%20Scrapping/Wikipedia%20Scraping.ipynb#W4sZmlsZQ%3D%3D?line=17'>18</a>\u001b[0m time\u001b[39m.\u001b[39;49msleep(\u001b[39m2\u001b[39;49m)\n\u001b[0;32m     <a href='vscode-notebook-cell:/d%3A/Semester%202/Programming%20For%20AI%28python%29/Practice/Web%20Scrapping/Wikipedia%20Scraping.ipynb#W4sZmlsZQ%3D%3D?line=18'>19</a>\u001b[0m driver\u001b[39m.\u001b[39mexecute_script(\u001b[39m\"\u001b[39m\u001b[39mwindow.scrollTo(500, 800);\u001b[39m\u001b[39m\"\u001b[39m)\n\u001b[0;32m     <a href='vscode-notebook-cell:/d%3A/Semester%202/Programming%20For%20AI%28python%29/Practice/Web%20Scrapping/Wikipedia%20Scraping.ipynb#W4sZmlsZQ%3D%3D?line=19'>20</a>\u001b[0m time\u001b[39m.\u001b[39msleep(\u001b[39m2\u001b[39m)\n",
      "\u001b[1;31mKeyboardInterrupt\u001b[0m: "
     ]
    }
   ],
   "source": [
    "links = []\n",
    "\n",
    "table = tables[0]\n",
    "    \n",
    "body = table.find_element(By.TAG_NAME, 'tbody')\n",
    "rows = body.find_elements(By.TAG_NAME, 'tr')\n",
    "for row in rows:\n",
    "    uni_name = row.find_element(By.TAG_NAME, 'td')\n",
    "    try:\n",
    "        uni_link = uni_name.find_element(By.TAG_NAME, 'a')\n",
    "    except NoSuchElementException:\n",
    "        pass\n",
    "    \n",
    "    driver.execute_script(f\"window.open('{uni_link.get_attribute('href')}','secondtab');\")\n",
    "    driver.switch_to.window(driver.window_handles[1]) \n",
    "\n",
    "    driver.execute_script(\"window.scrollTo(0, 500);\")\n",
    "    time.sleep(2)\n",
    "    driver.execute_script(\"window.scrollTo(500, 800);\")\n",
    "    time.sleep(2)\n",
    "    driver.execute_script(\"window.scrollTo(800, 1000);\")\n",
    "    \n",
    "    driver.close()\n",
    "    driver.switch_to.window(driver.window_handles[0]) "
   ]
  },
  {
   "cell_type": "code",
   "execution_count": null,
   "metadata": {},
   "outputs": [],
   "source": []
  },
  {
   "cell_type": "code",
   "execution_count": null,
   "metadata": {},
   "outputs": [],
   "source": []
  },
  {
   "cell_type": "code",
   "execution_count": 7,
   "metadata": {},
   "outputs": [],
   "source": [
    "url = 'https://web.whatsapp.com/'\n",
    "\n",
    "driver = webdriver.Chrome(service=ChromeService(ChromeDriverManager().install()))\n",
    "driver.get(url)\n"
   ]
  },
  {
   "cell_type": "code",
   "execution_count": 8,
   "metadata": {},
   "outputs": [
    {
     "ename": "NoSuchWindowException",
     "evalue": "Message: no such window: target window already closed\nfrom unknown error: web view not found\n  (Session info: chrome=119.0.6045.105)\nStacktrace:\n\tGetHandleVerifier [0x002672A3+45731]\n\t(No symbol) [0x001F2D51]\n\t(No symbol) [0x000E880D]\n\t(No symbol) [0x000CF75E]\n\t(No symbol) [0x0013C11B]\n\t(No symbol) [0x0014B2D3]\n\t(No symbol) [0x00137DD6]\n\t(No symbol) [0x001131F6]\n\t(No symbol) [0x0011439D]\n\tGetHandleVerifier [0x00570716+3229462]\n\tGetHandleVerifier [0x005B84C8+3523784]\n\tGetHandleVerifier [0x005B214C+3498316]\n\tGetHandleVerifier [0x002F1680+611968]\n\t(No symbol) [0x001FCCCC]\n\t(No symbol) [0x001F8DF8]\n\t(No symbol) [0x001F8F1D]\n\t(No symbol) [0x001EB2C7]\n\tBaseThreadInitThunk [0x76C97BA9+25]\n\tRtlInitializeExceptionChain [0x77BBBD3B+107]\n\tRtlClearBits [0x77BBBCBF+191]\n\t(No symbol) [0x00000000]\n",
     "output_type": "error",
     "traceback": [
      "\u001b[1;31m---------------------------------------------------------------------------\u001b[0m",
      "\u001b[1;31mNoSuchWindowException\u001b[0m                     Traceback (most recent call last)",
      "\u001b[1;32md:\\Semester 2\\Programming For AI(python)\\Practice\\Web Scrapping\\Wikipedia Scraping.ipynb Cell 9\u001b[0m line \u001b[0;36m1\n\u001b[1;32m----> <a href='vscode-notebook-cell:/d%3A/Semester%202/Programming%20For%20AI%28python%29/Practice/Web%20Scrapping/Wikipedia%20Scraping.ipynb#X11sZmlsZQ%3D%3D?line=0'>1</a>\u001b[0m driver\u001b[39m.\u001b[39;49mfind_element(By\u001b[39m.\u001b[39;49mXPATH, \u001b[39m\"\u001b[39;49m\u001b[39m/html/body/div[1]/div/div/div[5]/div/footer/div[1]/div/span[2]/div/div[2]/div[1]/div/div[1]/p\u001b[39;49m\u001b[39m\"\u001b[39;49m)\u001b[39m.\u001b[39msend_keys(\u001b[39m\"\u001b[39m\u001b[39mHello\u001b[39m\u001b[39m\"\u001b[39m\u001b[39m+\u001b[39mKeys\u001b[39m.\u001b[39mRETURN)\n",
      "File \u001b[1;32mc:\\Users\\Shahz\\AppData\\Local\\Programs\\Python\\Python310\\lib\\site-packages\\selenium\\webdriver\\remote\\webdriver.py:740\u001b[0m, in \u001b[0;36mWebDriver.find_element\u001b[1;34m(self, by, value)\u001b[0m\n\u001b[0;32m    737\u001b[0m     by \u001b[39m=\u001b[39m By\u001b[39m.\u001b[39mCSS_SELECTOR\n\u001b[0;32m    738\u001b[0m     value \u001b[39m=\u001b[39m \u001b[39mf\u001b[39m\u001b[39m'\u001b[39m\u001b[39m[name=\u001b[39m\u001b[39m\"\u001b[39m\u001b[39m{\u001b[39;00mvalue\u001b[39m}\u001b[39;00m\u001b[39m\"\u001b[39m\u001b[39m]\u001b[39m\u001b[39m'\u001b[39m\n\u001b[1;32m--> 740\u001b[0m \u001b[39mreturn\u001b[39;00m \u001b[39mself\u001b[39;49m\u001b[39m.\u001b[39;49mexecute(Command\u001b[39m.\u001b[39;49mFIND_ELEMENT, {\u001b[39m\"\u001b[39;49m\u001b[39musing\u001b[39;49m\u001b[39m\"\u001b[39;49m: by, \u001b[39m\"\u001b[39;49m\u001b[39mvalue\u001b[39;49m\u001b[39m\"\u001b[39;49m: value})[\u001b[39m\"\u001b[39m\u001b[39mvalue\u001b[39m\u001b[39m\"\u001b[39m]\n",
      "File \u001b[1;32mc:\\Users\\Shahz\\AppData\\Local\\Programs\\Python\\Python310\\lib\\site-packages\\selenium\\webdriver\\remote\\webdriver.py:346\u001b[0m, in \u001b[0;36mWebDriver.execute\u001b[1;34m(self, driver_command, params)\u001b[0m\n\u001b[0;32m    344\u001b[0m response \u001b[39m=\u001b[39m \u001b[39mself\u001b[39m\u001b[39m.\u001b[39mcommand_executor\u001b[39m.\u001b[39mexecute(driver_command, params)\n\u001b[0;32m    345\u001b[0m \u001b[39mif\u001b[39;00m response:\n\u001b[1;32m--> 346\u001b[0m     \u001b[39mself\u001b[39;49m\u001b[39m.\u001b[39;49merror_handler\u001b[39m.\u001b[39;49mcheck_response(response)\n\u001b[0;32m    347\u001b[0m     response[\u001b[39m\"\u001b[39m\u001b[39mvalue\u001b[39m\u001b[39m\"\u001b[39m] \u001b[39m=\u001b[39m \u001b[39mself\u001b[39m\u001b[39m.\u001b[39m_unwrap_value(response\u001b[39m.\u001b[39mget(\u001b[39m\"\u001b[39m\u001b[39mvalue\u001b[39m\u001b[39m\"\u001b[39m, \u001b[39mNone\u001b[39;00m))\n\u001b[0;32m    348\u001b[0m     \u001b[39mreturn\u001b[39;00m response\n",
      "File \u001b[1;32mc:\\Users\\Shahz\\AppData\\Local\\Programs\\Python\\Python310\\lib\\site-packages\\selenium\\webdriver\\remote\\errorhandler.py:229\u001b[0m, in \u001b[0;36mErrorHandler.check_response\u001b[1;34m(self, response)\u001b[0m\n\u001b[0;32m    227\u001b[0m         alert_text \u001b[39m=\u001b[39m value[\u001b[39m\"\u001b[39m\u001b[39malert\u001b[39m\u001b[39m\"\u001b[39m]\u001b[39m.\u001b[39mget(\u001b[39m\"\u001b[39m\u001b[39mtext\u001b[39m\u001b[39m\"\u001b[39m)\n\u001b[0;32m    228\u001b[0m     \u001b[39mraise\u001b[39;00m exception_class(message, screen, stacktrace, alert_text)  \u001b[39m# type: ignore[call-arg]  # mypy is not smart enough here\u001b[39;00m\n\u001b[1;32m--> 229\u001b[0m \u001b[39mraise\u001b[39;00m exception_class(message, screen, stacktrace)\n",
      "\u001b[1;31mNoSuchWindowException\u001b[0m: Message: no such window: target window already closed\nfrom unknown error: web view not found\n  (Session info: chrome=119.0.6045.105)\nStacktrace:\n\tGetHandleVerifier [0x002672A3+45731]\n\t(No symbol) [0x001F2D51]\n\t(No symbol) [0x000E880D]\n\t(No symbol) [0x000CF75E]\n\t(No symbol) [0x0013C11B]\n\t(No symbol) [0x0014B2D3]\n\t(No symbol) [0x00137DD6]\n\t(No symbol) [0x001131F6]\n\t(No symbol) [0x0011439D]\n\tGetHandleVerifier [0x00570716+3229462]\n\tGetHandleVerifier [0x005B84C8+3523784]\n\tGetHandleVerifier [0x005B214C+3498316]\n\tGetHandleVerifier [0x002F1680+611968]\n\t(No symbol) [0x001FCCCC]\n\t(No symbol) [0x001F8DF8]\n\t(No symbol) [0x001F8F1D]\n\t(No symbol) [0x001EB2C7]\n\tBaseThreadInitThunk [0x76C97BA9+25]\n\tRtlInitializeExceptionChain [0x77BBBD3B+107]\n\tRtlClearBits [0x77BBBCBF+191]\n\t(No symbol) [0x00000000]\n"
     ]
    }
   ],
   "source": [
    "driver.find_element(By.XPATH, \"/html/body/div[1]/div/div/div[5]/div/footer/div[1]/div/span[2]/div/div[2]/div[1]/div/div[1]/p\").send_keys(\"Hello\"+Keys.RETURN)\n"
   ]
  },
  {
   "cell_type": "code",
   "execution_count": null,
   "metadata": {},
   "outputs": [],
   "source": []
  }
 ],
 "metadata": {
  "colab": {
   "provenance": []
  },
  "kernelspec": {
   "display_name": "Python 3 (ipykernel)",
   "language": "python",
   "name": "python3"
  },
  "language_info": {
   "codemirror_mode": {
    "name": "ipython",
    "version": 3
   },
   "file_extension": ".py",
   "mimetype": "text/x-python",
   "name": "python",
   "nbconvert_exporter": "python",
   "pygments_lexer": "ipython3",
   "version": "3.10.7"
  }
 },
 "nbformat": 4,
 "nbformat_minor": 1
}
