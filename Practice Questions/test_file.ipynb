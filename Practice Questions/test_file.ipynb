{
 "cells": [
  {
   "cell_type": "code",
   "execution_count": 2,
   "metadata": {},
   "outputs": [],
   "source": [
    "import pandas as pd\n",
    "from pandas import Series"
   ]
  },
  {
   "cell_type": "code",
   "execution_count": 4,
   "metadata": {},
   "outputs": [
    {
     "name": "stdout",
     "output_type": "stream",
     "text": [
      "        A    B\n",
      "Tom   1.0  3.0\n",
      "Dick  4.0  2.0\n",
      "Har   9.0  NaN\n",
      "Mar   NaN  5.0\n"
     ]
    }
   ],
   "source": [
    "# Example 1 ...\n",
    "s1 = Series(range(6))\n",
    "s2 = s1 * s1\n",
    "s2.index = s2.index + 2# misalign indexes\n",
    "df = pd.concat([s1, s2], axis=1)\n",
    "# Example 2 ...\n",
    "s3 = Series({'Tom':1, 'Dick':4, 'Har':9})\n",
    "s4 = Series({'Tom':3, 'Dick':2, 'Mar':5})\n",
    "df = pd.concat({'A':s3, 'B':s4 }, axis=1)\n",
    "print(df)"
   ]
  },
  {
   "cell_type": "code",
   "execution_count": null,
   "metadata": {},
   "outputs": [],
   "source": [
    "s1 = Series(range(0,4)) # -> 0, 1, 2, 3\n",
    "s2 = Series(range(1,5)) # -> 1, 2, 3, 4\n",
    "s3 = s1 + s2 # -> 1, 3, 5, 7\n",
    "s4 = Series(['a','b'])*3 # -> 'aaa','bbb'"
   ]
  },
  {
   "cell_type": "code",
   "execution_count": 5,
   "metadata": {},
   "outputs": [
    {
     "ename": "NameError",
     "evalue": "name 's' is not defined",
     "output_type": "error",
     "traceback": [
      "\u001b[1;31m---------------------------------------------------------------------------\u001b[0m",
      "\u001b[1;31mNameError\u001b[0m                                 Traceback (most recent call last)",
      "\u001b[1;32md:\\Semester 2\\Programming For AI(python)\\Practice\\Practice Questions\\test_file.ipynb Cell 3\u001b[0m line \u001b[0;36m2\n\u001b[0;32m      <a href='vscode-notebook-cell:/d%3A/Semester%202/Programming%20For%20AI%28python%29/Practice/Practice%20Questions/test_file.ipynb#W3sZmlsZQ%3D%3D?line=0'>1</a>\u001b[0m \u001b[39m# --- get Index from Series and DataFrame\u001b[39;00m\n\u001b[1;32m----> <a href='vscode-notebook-cell:/d%3A/Semester%202/Programming%20For%20AI%28python%29/Practice/Practice%20Questions/test_file.ipynb#W3sZmlsZQ%3D%3D?line=1'>2</a>\u001b[0m idx \u001b[39m=\u001b[39m s\u001b[39m.\u001b[39mindex\n\u001b[0;32m      <a href='vscode-notebook-cell:/d%3A/Semester%202/Programming%20For%20AI%28python%29/Practice/Practice%20Questions/test_file.ipynb#W3sZmlsZQ%3D%3D?line=2'>3</a>\u001b[0m idx \u001b[39m=\u001b[39m df\u001b[39m.\u001b[39mcolumns \u001b[39m# the column index\u001b[39;00m\n\u001b[0;32m      <a href='vscode-notebook-cell:/d%3A/Semester%202/Programming%20For%20AI%28python%29/Practice/Practice%20Questions/test_file.ipynb#W3sZmlsZQ%3D%3D?line=3'>4</a>\u001b[0m idx \u001b[39m=\u001b[39m df\u001b[39m.\u001b[39mindex \u001b[39m# the row index\u001b[39;00m\n",
      "\u001b[1;31mNameError\u001b[0m: name 's' is not defined"
     ]
    }
   ],
   "source": [
    "# --- get Index from Series and DataFrame\n",
    "idx = s.index\n",
    "idx = df.columns # the column index\n",
    "idx = df.index # the row index\n",
    "# --- some Index attributes\n",
    "b = idx.is_monotonic_decreasing\n",
    "b = idx.is_monotonic_increasing\n",
    "b = idx.has_duplicates\n",
    "i = idx.nlevels # multi-level indexes\n",
    "# --- some Index methods\n",
    "a = idx.values() # get as numpy array\n",
    "l = idx.tolist() # get as a python list\n",
    "idx = idx.astype(dtype)# change data type\n",
    "b = idx.equals(o) # check for equality\n",
    "idx = idx.union(o) # union of two indexes\n",
    "i = idx.nunique() # number unique labels\n",
    "label = idx.min() # minimum label\n",
    "label = idx.max() # maximum label"
   ]
  }
 ],
 "metadata": {
  "kernelspec": {
   "display_name": "Python 3",
   "language": "python",
   "name": "python3"
  },
  "language_info": {
   "codemirror_mode": {
    "name": "ipython",
    "version": 3
   },
   "file_extension": ".py",
   "mimetype": "text/x-python",
   "name": "python",
   "nbconvert_exporter": "python",
   "pygments_lexer": "ipython3",
   "version": "3.10.7"
  }
 },
 "nbformat": 4,
 "nbformat_minor": 2
}
