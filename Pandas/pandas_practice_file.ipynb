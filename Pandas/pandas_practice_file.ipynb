{
 "cells": [
  {
   "cell_type": "code",
   "execution_count": 6,
   "metadata": {},
   "outputs": [
    {
     "name": "stdout",
     "output_type": "stream",
     "text": [
      "0    1\n",
      "1    2\n",
      "2    3\n",
      "3    4\n",
      "4    5\n",
      "dtype: int64\n",
      "0    10\n",
      "1    20\n",
      "2    30\n",
      "3    40\n",
      "4    50\n",
      "dtype: int64\n"
     ]
    }
   ],
   "source": [
    "import pandas as pd\n",
    "series = pd.Series([1, \"John\"])\n",
    "s = pd.Series([1, 2, 3, 4, 5])\n",
    "print(s)\n",
    "print(series)"
   ]
  },
  {
   "cell_type": "code",
   "execution_count": 7,
   "metadata": {},
   "outputs": [
    {
     "name": "stdout",
     "output_type": "stream",
     "text": [
      "      Name  Age           City\n",
      "0    Alice   25       New York\n",
      "1      Bob   30  San Francisco\n",
      "2  Charlie   35    Los Angeles\n",
      "0      Alice\n",
      "1        Bob\n",
      "2    Charlie\n",
      "Name: Name, dtype: object\n",
      "      Name  Age           City\n",
      "1      Bob   30  San Francisco\n",
      "2  Charlie   35    Los Angeles\n",
      "(3, 3)\n"
     ]
    }
   ],
   "source": [
    "data = {'Name': ['Alice', 'Bob', 'Charlie'],\n",
    "'Age': [25, 30, 35],\n",
    "'City': ['New York', 'San Francisco', 'Los Angeles']\n",
    "}\n",
    "df = pd.DataFrame(data)\n",
    "print(df)\n",
    "print(df['Name'])\n",
    "new_data = df[df['Age']>26]\n",
    "print(new_data)\n",
    "print(df.shape)"
   ]
  },
  {
   "cell_type": "code",
   "execution_count": 8,
   "metadata": {},
   "outputs": [
    {
     "name": "stdout",
     "output_type": "stream",
     "text": [
      "      Name   Age     Category  Price\n",
      "0    Alice  25.0  Electronics  100.0\n",
      "1      Bob   NaN     Clothing   50.0\n",
      "2  Charlie  30.0  Electronics  120.0\n",
      "3    Alice  25.0  Electronics    NaN\n",
      "4      Eva  28.0     Clothing   75.0\n",
      "      Name   Age     Category  Price\n",
      "0    Alice  25.0  Electronics  100.0\n",
      "1      Bob   0.0     Clothing   50.0\n",
      "2  Charlie  30.0  Electronics  120.0\n",
      "3    Alice  25.0  Electronics    0.0\n",
      "4      Eva  28.0     Clothing   75.0\n",
      "Category\n",
      "Clothing       62.500000\n",
      "Electronics    73.333333\n",
      "Name: Price, dtype: float64\n"
     ]
    }
   ],
   "source": [
    "data = {\n",
    "    'Name': ['Alice', 'Bob', 'Charlie', 'Alice', 'Eva'],\n",
    "    'Age': [25, None, 30, 25, 28],\n",
    "    'Category': ['Electronics', 'Clothing', 'Electronics', 'Electronics', 'Clothing'],\n",
    "    'Price': [100.0, 50.0, 120.0, None, 75.0]\n",
    "}\n",
    "df_2 = pd.DataFrame(data)\n",
    "print(df_2)\n",
    "# df_2.dropna(inplace=True)\n",
    "df_2.fillna(0,inplace=True)\n",
    "df_2.drop_duplicates(inplace=True)\n",
    "# df_2.sort_values(by='Category', inplace=True)\n",
    "mean = df_2.groupby('Category')['Price'].mean()\n",
    "print(df_2)\n",
    "print(mean)"
   ]
  },
  {
   "cell_type": "code",
   "execution_count": 13,
   "metadata": {},
   "outputs": [
    {
     "name": "stdout",
     "output_type": "stream",
     "text": [
      "   A   B\n",
      "0  1  10\n",
      "1  2  20\n",
      "2  3  30\n",
      "3  4  40\n",
      "4  5  50\n",
      "2\n"
     ]
    },
    {
     "data": {
      "text/html": [
       "<div>\n",
       "<style scoped>\n",
       "    .dataframe tbody tr th:only-of-type {\n",
       "        vertical-align: middle;\n",
       "    }\n",
       "\n",
       "    .dataframe tbody tr th {\n",
       "        vertical-align: top;\n",
       "    }\n",
       "\n",
       "    .dataframe thead th {\n",
       "        text-align: right;\n",
       "    }\n",
       "</style>\n",
       "<table border=\"1\" class=\"dataframe\">\n",
       "  <thead>\n",
       "    <tr style=\"text-align: right;\">\n",
       "      <th></th>\n",
       "      <th>A</th>\n",
       "      <th>B</th>\n",
       "    </tr>\n",
       "  </thead>\n",
       "  <tbody>\n",
       "    <tr>\n",
       "      <th>3</th>\n",
       "      <td>4</td>\n",
       "      <td>40</td>\n",
       "    </tr>\n",
       "    <tr>\n",
       "      <th>4</th>\n",
       "      <td>5</td>\n",
       "      <td>50</td>\n",
       "    </tr>\n",
       "  </tbody>\n",
       "</table>\n",
       "</div>"
      ],
      "text/plain": [
       "   A   B\n",
       "3  4  40\n",
       "4  5  50"
      ]
     },
     "execution_count": 13,
     "metadata": {},
     "output_type": "execute_result"
    }
   ],
   "source": [
    "#Given the following DataFrame df, how would you select:\n",
    "#The second row of column 'A'?\n",
    "#The values in column 'B' where column 'A' is greater than 3?\n",
    "#The last two rows of the DataFrame?\n",
    "df = pd.DataFrame({'A': [1, 2, 3, 4, 5], 'B': [10, 20, 30, 40, 50]})\n",
    "print(df)\n",
    "print(df.loc[1]['A'])\n",
    "df[df['A']>3]['B']\n",
    "df.tail(2)"
   ]
  },
  {
   "cell_type": "code",
   "execution_count": 12,
   "metadata": {},
   "outputs": [
    {
     "name": "stdout",
     "output_type": "stream",
     "text": [
      "Product\n",
      "A    300\n",
      "B    270\n",
      "C     75\n",
      "Name: Revenue, dtype: int64\n",
      "129.0\n"
     ]
    }
   ],
   "source": [
    "#Given a DataFrame sales with columns 'Product' and 'Revenue', how would you calculate:\n",
    "# The total revenue for each product?\n",
    "# The average revenue across all products?\n",
    "sales = pd.DataFrame({'Product': ['A', 'B', 'A', 'C', 'B'], 'Revenue': [100, 150, 200, 75, 120]})\n",
    "total_revenue_per_product = sales.groupby('Product')['Revenue'].sum()\n",
    "average_value = sales['Revenue'].mean()\n",
    "print(total_revenue_per_product)\n",
    "print(average_value)"
   ]
  },
  {
   "cell_type": "code",
   "execution_count": 11,
   "metadata": {},
   "outputs": [
    {
     "name": "stdout",
     "output_type": "stream",
     "text": [
      "      Name  Age Grade Status\n",
      "0    Alice   25     A   Pass\n",
      "1      Bob   30     B   Fail\n",
      "2  Charlie   35     A   Pass\n",
      "3    David   28     C   Fail\n",
      "4      Eva   24     B   Fail\n",
      "      Name  Age Grade\n",
      "1      Bob   30     B\n",
      "2  Charlie   35     A\n",
      "3    David   28     C\n"
     ]
    }
   ],
   "source": [
    "# Data Transformation:\n",
    "# Given a DataFrame students with columns 'Name', 'Age', and 'Grade', how would you:\n",
    "# Create a new DataFrame containing only students with an age greater than 26.\n",
    "# Add a new column 'Status' where 'Pass' is assigned to students with a grade of 'A' and 'Fail' otherwise.\n",
    "students = pd.DataFrame({'Name': ['Alice', 'Bob', 'Charlie', 'David', 'Eva'],\n",
    "                         'Age': [25, 30, 35, 28, 24],\n",
    "                         'Grade': ['A', 'B', 'A', 'C', 'B']})\n",
    "new_data_frame = students[students['Age']>26]\n",
    "students['Status'] = ['Pass' if grade == 'A' else 'Fail' for grade in students['Grade']]\n",
    "#Method 2 \n",
    "def assign_status(grade):\n",
    "    if grade == 'A':\n",
    "        return 'Pass'\n",
    "    else:\n",
    "        return 'Fail'\n",
    "\n",
    "# Apply the function to create the 'Status' column\n",
    "students['Status'] = students['Grade'].apply(assign_status)\n",
    "\n",
    "print(students)\n",
    "print(new_data_frame)"
   ]
  },
  {
   "cell_type": "code",
   "execution_count": 80,
   "metadata": {},
   "outputs": [
    {
     "name": "stdout",
     "output_type": "stream",
     "text": [
      "  Key  Value1  Value2\n",
      "0   B       2       4\n",
      "1   C       3       5\n",
      "  Key  Value1  Value2\n",
      "0   A       1     NaN\n",
      "1   B       2     4.0\n",
      "2   C       3     5.0\n",
      "  Key  Value2\n",
      "0   B       4\n",
      "1   C       5\n",
      "2   D       6\n"
     ]
    }
   ],
   "source": [
    "#Given two DataFrames df1 and df2:\n",
    "df1 = pd.DataFrame({'Key': ['A', 'B', 'C'], 'Value1': [1, 2, 3]})\n",
    "df2 = pd.DataFrame({'Key': ['B', 'C', 'D'], 'Value2': [4, 5, 6]})\n",
    "# How would you perform an inner join between these DataFrames on the 'Key' column?\n",
    "# How would you perform a left join between these DataFrames on the 'Key' column?\n",
    "inner_join_result = df1.merge(df2, on=\"Key\", how=\"inner\")\n",
    "left_join_result = df1.merge(df2, on= \"Key\", how=\"left\")\n",
    "print(inner_join_result)\n",
    "print(left_join_result)\n",
    "print(df2)"
   ]
  },
  {
   "cell_type": "code",
   "execution_count": 13,
   "metadata": {},
   "outputs": [
    {
     "name": "stdout",
     "output_type": "stream",
     "text": [
      "a      2.00\n",
      "b    345.60\n",
      "c    -14.65\n",
      "d    -14.65\n",
      "e      6.00\n",
      "dtype: float64\n"
     ]
    }
   ],
   "source": [
    "import pandas\n",
    "s1=pandas.Series([2,3,4,5,6],index=['a','b','c','d','e'])\n",
    "s1[1:2]=345.6\n",
    "s1[2:4]= -14.65\n",
    "print(s1)"
   ]
  },
  {
   "cell_type": "code",
   "execution_count": 16,
   "metadata": {},
   "outputs": [
    {
     "name": "stdout",
     "output_type": "stream",
     "text": [
      "(2, 3)\n"
     ]
    },
    {
     "data": {
      "text/html": [
       "<div>\n",
       "<style scoped>\n",
       "    .dataframe tbody tr th:only-of-type {\n",
       "        vertical-align: middle;\n",
       "    }\n",
       "\n",
       "    .dataframe tbody tr th {\n",
       "        vertical-align: top;\n",
       "    }\n",
       "\n",
       "    .dataframe thead th {\n",
       "        text-align: right;\n",
       "    }\n",
       "</style>\n",
       "<table border=\"1\" class=\"dataframe\">\n",
       "  <thead>\n",
       "    <tr style=\"text-align: right;\">\n",
       "      <th></th>\n",
       "      <th>0</th>\n",
       "      <th>1</th>\n",
       "      <th>2</th>\n",
       "    </tr>\n",
       "  </thead>\n",
       "  <tbody>\n",
       "    <tr>\n",
       "      <th>0</th>\n",
       "      <td>4</td>\n",
       "      <td>6</td>\n",
       "      <td>9</td>\n",
       "    </tr>\n",
       "    <tr>\n",
       "      <th>1</th>\n",
       "      <td>5</td>\n",
       "      <td>1</td>\n",
       "      <td>3</td>\n",
       "    </tr>\n",
       "  </tbody>\n",
       "</table>\n",
       "</div>"
      ],
      "text/plain": [
       "   0  1  2\n",
       "0  4  6  9\n",
       "1  5  1  3"
      ]
     },
     "execution_count": 16,
     "metadata": {},
     "output_type": "execute_result"
    }
   ],
   "source": [
    "import pandas as pd\n",
    "import numpy as np\n",
    "df = pd.DataFrame(np.array([[4,6,9],[5,1,3]]))\n",
    "print(df.shape)\n",
    "df"
   ]
  },
  {
   "cell_type": "code",
   "execution_count": 21,
   "metadata": {},
   "outputs": [
    {
     "name": "stdout",
     "output_type": "stream",
     "text": [
      "[200 400]\n",
      "[200, 300, 400, 500]\n"
     ]
    }
   ],
   "source": [
    "array1=np.array([100,200,300,400,500,600,700])\n",
    "print(array1[1:5:2])\n",
    "array_ = [100,200,300,400,500,600,700]\n",
    "print(array_[1:5])"
   ]
  }
 ],
 "metadata": {
  "kernelspec": {
   "display_name": "Python 3",
   "language": "python",
   "name": "python3"
  },
  "language_info": {
   "codemirror_mode": {
    "name": "ipython",
    "version": 3
   },
   "file_extension": ".py",
   "mimetype": "text/x-python",
   "name": "python",
   "nbconvert_exporter": "python",
   "pygments_lexer": "ipython3",
   "version": "3.10.7"
  },
  "orig_nbformat": 4
 },
 "nbformat": 4,
 "nbformat_minor": 2
}
